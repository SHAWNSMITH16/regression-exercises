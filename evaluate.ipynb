{
 "cells": [
  {
   "cell_type": "code",
   "execution_count": 53,
   "id": "829fdaad",
   "metadata": {},
   "outputs": [],
   "source": [
    "import pandas as pd\n",
    "import numpy as np\n",
    "import matplotlib.pyplot as plt\n",
    "import seaborn as sns\n",
    "from sklearn.model_selection import train_test_split\n",
    "from sklearn.preprocessing import RobustScaler\n",
    "from sklearn.preprocessing import QuantileTransformer\n",
    "from sklearn.preprocessing import MinMaxScaler\n",
    "from sklearn.preprocessing import StandardScaler\n",
    "from sklearn.feature_selection import SelectKBest, f_regression\n",
    "from sklearn.linear_model import LinearRegression\n",
    "from sklearn.feature_selection import RFE\n",
    "from sklearn.metrics import r2_score, mean_squared_error\n",
    "from sklearn.metrics import explained_variance_score\n",
    "from sklearn.linear_model import LassoLars\n",
    "from sklearn.preprocessing import PolynomialFeatures\n",
    "from sklearn.linear_model import TweedieRegressor\n",
    "import math\n",
    "from scipy.stats import pearsonr, spearmanr\n",
    "\n",
    "\n",
    "from env import get_connection\n",
    "import wrangle_zillow\n",
    "import prepare\n",
    "\n",
    "\n",
    "# turn off pink boxes for demo\n",
    "import warnings\n",
    "warnings.filterwarnings(\"ignore\")"
   ]
  },
  {
   "cell_type": "code",
   "execution_count": null,
   "id": "04b748e7",
   "metadata": {},
   "outputs": [],
   "source": []
  },
  {
   "cell_type": "markdown",
   "id": "5a1f39ab",
   "metadata": {},
   "source": [
    "\n",
    "## 1. Load your zillow dataset."
   ]
  },
  {
   "cell_type": "code",
   "execution_count": 4,
   "id": "e8f06460",
   "metadata": {},
   "outputs": [
    {
     "data": {
      "text/html": [
       "<div>\n",
       "<style scoped>\n",
       "    .dataframe tbody tr th:only-of-type {\n",
       "        vertical-align: middle;\n",
       "    }\n",
       "\n",
       "    .dataframe tbody tr th {\n",
       "        vertical-align: top;\n",
       "    }\n",
       "\n",
       "    .dataframe thead th {\n",
       "        text-align: right;\n",
       "    }\n",
       "</style>\n",
       "<table border=\"1\" class=\"dataframe\">\n",
       "  <thead>\n",
       "    <tr style=\"text-align: right;\">\n",
       "      <th></th>\n",
       "      <th>bath</th>\n",
       "      <th>bed</th>\n",
       "      <th>sqft</th>\n",
       "      <th>fin_sqft</th>\n",
       "      <th>fips</th>\n",
       "      <th>full_bath</th>\n",
       "      <th>lotsize</th>\n",
       "      <th>zipcode</th>\n",
       "      <th>rooms</th>\n",
       "      <th>yearbuilt</th>\n",
       "      <th>taxvaluedollarcnt</th>\n",
       "    </tr>\n",
       "  </thead>\n",
       "  <tbody>\n",
       "    <tr>\n",
       "      <th>0</th>\n",
       "      <td>3</td>\n",
       "      <td>4</td>\n",
       "      <td>3100.0</td>\n",
       "      <td>3100.0</td>\n",
       "      <td>6059</td>\n",
       "      <td>3.0</td>\n",
       "      <td>4506.0</td>\n",
       "      <td>96978.0</td>\n",
       "      <td>0.0</td>\n",
       "      <td>1998</td>\n",
       "      <td>1023282</td>\n",
       "    </tr>\n",
       "    <tr>\n",
       "      <th>1</th>\n",
       "      <td>1</td>\n",
       "      <td>2</td>\n",
       "      <td>1465.0</td>\n",
       "      <td>1465.0</td>\n",
       "      <td>6111</td>\n",
       "      <td>1.0</td>\n",
       "      <td>12647.0</td>\n",
       "      <td>97099.0</td>\n",
       "      <td>5.0</td>\n",
       "      <td>1967</td>\n",
       "      <td>464000</td>\n",
       "    </tr>\n",
       "    <tr>\n",
       "      <th>2</th>\n",
       "      <td>2</td>\n",
       "      <td>3</td>\n",
       "      <td>1243.0</td>\n",
       "      <td>1243.0</td>\n",
       "      <td>6059</td>\n",
       "      <td>2.0</td>\n",
       "      <td>8432.0</td>\n",
       "      <td>97078.0</td>\n",
       "      <td>6.0</td>\n",
       "      <td>1962</td>\n",
       "      <td>564778</td>\n",
       "    </tr>\n",
       "    <tr>\n",
       "      <th>3</th>\n",
       "      <td>3</td>\n",
       "      <td>4</td>\n",
       "      <td>2376.0</td>\n",
       "      <td>2376.0</td>\n",
       "      <td>6037</td>\n",
       "      <td>3.0</td>\n",
       "      <td>13038.0</td>\n",
       "      <td>96330.0</td>\n",
       "      <td>0.0</td>\n",
       "      <td>1970</td>\n",
       "      <td>145143</td>\n",
       "    </tr>\n",
       "    <tr>\n",
       "      <th>4</th>\n",
       "      <td>3</td>\n",
       "      <td>4</td>\n",
       "      <td>2962.0</td>\n",
       "      <td>2962.0</td>\n",
       "      <td>6037</td>\n",
       "      <td>3.0</td>\n",
       "      <td>63000.0</td>\n",
       "      <td>96293.0</td>\n",
       "      <td>0.0</td>\n",
       "      <td>1950</td>\n",
       "      <td>773303</td>\n",
       "    </tr>\n",
       "  </tbody>\n",
       "</table>\n",
       "</div>"
      ],
      "text/plain": [
       "   bath  bed    sqft  fin_sqft  fips  full_bath  lotsize  zipcode  rooms  \\\n",
       "0     3    4  3100.0    3100.0  6059        3.0   4506.0  96978.0    0.0   \n",
       "1     1    2  1465.0    1465.0  6111        1.0  12647.0  97099.0    5.0   \n",
       "2     2    3  1243.0    1243.0  6059        2.0   8432.0  97078.0    6.0   \n",
       "3     3    4  2376.0    2376.0  6037        3.0  13038.0  96330.0    0.0   \n",
       "4     3    4  2962.0    2962.0  6037        3.0  63000.0  96293.0    0.0   \n",
       "\n",
       "   yearbuilt  taxvaluedollarcnt  \n",
       "0       1998            1023282  \n",
       "1       1967             464000  \n",
       "2       1962             564778  \n",
       "3       1970             145143  \n",
       "4       1950             773303  "
      ]
     },
     "execution_count": 4,
     "metadata": {},
     "output_type": "execute_result"
    }
   ],
   "source": [
    "df = wrangle_zillow.wrangle_zillow()\n",
    "df.head()"
   ]
  },
  {
   "cell_type": "code",
   "execution_count": 5,
   "id": "5b222d27",
   "metadata": {},
   "outputs": [
    {
     "data": {
      "text/plain": [
       "((36187, 11), (9305, 11), (6204, 11))"
      ]
     },
     "execution_count": 5,
     "metadata": {},
     "output_type": "execute_result"
    }
   ],
   "source": [
    "train, val, test = prepare.train_val_test(df)\n",
    "train.shape, val.shape, test.shape"
   ]
  },
  {
   "cell_type": "code",
   "execution_count": 6,
   "id": "6f089467",
   "metadata": {},
   "outputs": [
    {
     "data": {
      "text/html": [
       "<div>\n",
       "<style scoped>\n",
       "    .dataframe tbody tr th:only-of-type {\n",
       "        vertical-align: middle;\n",
       "    }\n",
       "\n",
       "    .dataframe tbody tr th {\n",
       "        vertical-align: top;\n",
       "    }\n",
       "\n",
       "    .dataframe thead th {\n",
       "        text-align: right;\n",
       "    }\n",
       "</style>\n",
       "<table border=\"1\" class=\"dataframe\">\n",
       "  <thead>\n",
       "    <tr style=\"text-align: right;\">\n",
       "      <th></th>\n",
       "      <th>bath</th>\n",
       "      <th>bed</th>\n",
       "      <th>sqft</th>\n",
       "      <th>fin_sqft</th>\n",
       "      <th>fips</th>\n",
       "      <th>full_bath</th>\n",
       "      <th>lotsize</th>\n",
       "      <th>zipcode</th>\n",
       "      <th>rooms</th>\n",
       "      <th>yearbuilt</th>\n",
       "      <th>taxvaluedollarcnt</th>\n",
       "    </tr>\n",
       "  </thead>\n",
       "  <tbody>\n",
       "    <tr>\n",
       "      <th>30731</th>\n",
       "      <td>3</td>\n",
       "      <td>4</td>\n",
       "      <td>2667.0</td>\n",
       "      <td>2667.0</td>\n",
       "      <td>6059</td>\n",
       "      <td>3.0</td>\n",
       "      <td>6957.0</td>\n",
       "      <td>96958.0</td>\n",
       "      <td>8.0</td>\n",
       "      <td>1967</td>\n",
       "      <td>878133</td>\n",
       "    </tr>\n",
       "    <tr>\n",
       "      <th>24450</th>\n",
       "      <td>1</td>\n",
       "      <td>2</td>\n",
       "      <td>1438.0</td>\n",
       "      <td>1438.0</td>\n",
       "      <td>6059</td>\n",
       "      <td>1.0</td>\n",
       "      <td>1763.0</td>\n",
       "      <td>96186.0</td>\n",
       "      <td>6.0</td>\n",
       "      <td>1977</td>\n",
       "      <td>352000</td>\n",
       "    </tr>\n",
       "    <tr>\n",
       "      <th>35967</th>\n",
       "      <td>2</td>\n",
       "      <td>3</td>\n",
       "      <td>1203.0</td>\n",
       "      <td>1203.0</td>\n",
       "      <td>6059</td>\n",
       "      <td>2.0</td>\n",
       "      <td>8250.0</td>\n",
       "      <td>96965.0</td>\n",
       "      <td>7.0</td>\n",
       "      <td>1963</td>\n",
       "      <td>373126</td>\n",
       "    </tr>\n",
       "    <tr>\n",
       "      <th>36633</th>\n",
       "      <td>2</td>\n",
       "      <td>3</td>\n",
       "      <td>1981.0</td>\n",
       "      <td>1981.0</td>\n",
       "      <td>6059</td>\n",
       "      <td>2.0</td>\n",
       "      <td>4500.0</td>\n",
       "      <td>96948.0</td>\n",
       "      <td>9.0</td>\n",
       "      <td>1987</td>\n",
       "      <td>572796</td>\n",
       "    </tr>\n",
       "    <tr>\n",
       "      <th>50019</th>\n",
       "      <td>3</td>\n",
       "      <td>3</td>\n",
       "      <td>2562.0</td>\n",
       "      <td>2562.0</td>\n",
       "      <td>6037</td>\n",
       "      <td>3.0</td>\n",
       "      <td>2992.0</td>\n",
       "      <td>96128.0</td>\n",
       "      <td>0.0</td>\n",
       "      <td>1997</td>\n",
       "      <td>862713</td>\n",
       "    </tr>\n",
       "  </tbody>\n",
       "</table>\n",
       "</div>"
      ],
      "text/plain": [
       "       bath  bed    sqft  fin_sqft  fips  full_bath  lotsize  zipcode  rooms  \\\n",
       "30731     3    4  2667.0    2667.0  6059        3.0   6957.0  96958.0    8.0   \n",
       "24450     1    2  1438.0    1438.0  6059        1.0   1763.0  96186.0    6.0   \n",
       "35967     2    3  1203.0    1203.0  6059        2.0   8250.0  96965.0    7.0   \n",
       "36633     2    3  1981.0    1981.0  6059        2.0   4500.0  96948.0    9.0   \n",
       "50019     3    3  2562.0    2562.0  6037        3.0   2992.0  96128.0    0.0   \n",
       "\n",
       "       yearbuilt  taxvaluedollarcnt  \n",
       "30731       1967             878133  \n",
       "24450       1977             352000  \n",
       "35967       1963             373126  \n",
       "36633       1987             572796  \n",
       "50019       1997             862713  "
      ]
     },
     "execution_count": 6,
     "metadata": {},
     "output_type": "execute_result"
    }
   ],
   "source": [
    "train.head()"
   ]
  },
  {
   "cell_type": "markdown",
   "id": "2cbf2bfe",
   "metadata": {},
   "source": [
    "## 2. Fit a linear regression model (ordinary least squares) and compute that, predictions of taxvaluedollarcnt using only calculatedfinishedsqft."
   ]
  },
  {
   "cell_type": "code",
   "execution_count": 9,
   "id": "474264ef",
   "metadata": {},
   "outputs": [],
   "source": [
    "train = train.drop(columns=['bed', 'bath', 'fin_sqft', 'full_bath', 'lotsize', 'zipcode',\n",
    "                    'yearbuilt', 'rooms', 'fips'])"
   ]
  },
  {
   "cell_type": "code",
   "execution_count": 10,
   "id": "27fa929e",
   "metadata": {},
   "outputs": [
    {
     "data": {
      "text/html": [
       "<div>\n",
       "<style scoped>\n",
       "    .dataframe tbody tr th:only-of-type {\n",
       "        vertical-align: middle;\n",
       "    }\n",
       "\n",
       "    .dataframe tbody tr th {\n",
       "        vertical-align: top;\n",
       "    }\n",
       "\n",
       "    .dataframe thead th {\n",
       "        text-align: right;\n",
       "    }\n",
       "</style>\n",
       "<table border=\"1\" class=\"dataframe\">\n",
       "  <thead>\n",
       "    <tr style=\"text-align: right;\">\n",
       "      <th></th>\n",
       "      <th>sqft</th>\n",
       "      <th>taxvaluedollarcnt</th>\n",
       "    </tr>\n",
       "  </thead>\n",
       "  <tbody>\n",
       "    <tr>\n",
       "      <th>30731</th>\n",
       "      <td>2667.0</td>\n",
       "      <td>878133</td>\n",
       "    </tr>\n",
       "    <tr>\n",
       "      <th>24450</th>\n",
       "      <td>1438.0</td>\n",
       "      <td>352000</td>\n",
       "    </tr>\n",
       "    <tr>\n",
       "      <th>35967</th>\n",
       "      <td>1203.0</td>\n",
       "      <td>373126</td>\n",
       "    </tr>\n",
       "    <tr>\n",
       "      <th>36633</th>\n",
       "      <td>1981.0</td>\n",
       "      <td>572796</td>\n",
       "    </tr>\n",
       "    <tr>\n",
       "      <th>50019</th>\n",
       "      <td>2562.0</td>\n",
       "      <td>862713</td>\n",
       "    </tr>\n",
       "  </tbody>\n",
       "</table>\n",
       "</div>"
      ],
      "text/plain": [
       "         sqft  taxvaluedollarcnt\n",
       "30731  2667.0             878133\n",
       "24450  1438.0             352000\n",
       "35967  1203.0             373126\n",
       "36633  1981.0             572796\n",
       "50019  2562.0             862713"
      ]
     },
     "execution_count": 10,
     "metadata": {},
     "output_type": "execute_result"
    }
   ],
   "source": [
    "train.head()"
   ]
  },
  {
   "cell_type": "code",
   "execution_count": 11,
   "id": "d2781b03",
   "metadata": {},
   "outputs": [],
   "source": [
    "MinMax = MinMaxScaler()\n",
    "\n",
    "train['sqft'] = MinMax.fit_transform(train[['sqft']])"
   ]
  },
  {
   "cell_type": "code",
   "execution_count": 13,
   "id": "59a6cd38",
   "metadata": {},
   "outputs": [
    {
     "data": {
      "text/html": [
       "<div>\n",
       "<style scoped>\n",
       "    .dataframe tbody tr th:only-of-type {\n",
       "        vertical-align: middle;\n",
       "    }\n",
       "\n",
       "    .dataframe tbody tr th {\n",
       "        vertical-align: top;\n",
       "    }\n",
       "\n",
       "    .dataframe thead th {\n",
       "        text-align: right;\n",
       "    }\n",
       "</style>\n",
       "<table border=\"1\" class=\"dataframe\">\n",
       "  <thead>\n",
       "    <tr style=\"text-align: right;\">\n",
       "      <th></th>\n",
       "      <th>sqft</th>\n",
       "      <th>taxvaluedollarcnt</th>\n",
       "    </tr>\n",
       "  </thead>\n",
       "  <tbody>\n",
       "    <tr>\n",
       "      <th>30731</th>\n",
       "      <td>0.250775</td>\n",
       "      <td>878133</td>\n",
       "    </tr>\n",
       "    <tr>\n",
       "      <th>24450</th>\n",
       "      <td>0.123786</td>\n",
       "      <td>352000</td>\n",
       "    </tr>\n",
       "    <tr>\n",
       "      <th>35967</th>\n",
       "      <td>0.099504</td>\n",
       "      <td>373126</td>\n",
       "    </tr>\n",
       "    <tr>\n",
       "      <th>36633</th>\n",
       "      <td>0.179893</td>\n",
       "      <td>572796</td>\n",
       "    </tr>\n",
       "    <tr>\n",
       "      <th>50019</th>\n",
       "      <td>0.239926</td>\n",
       "      <td>862713</td>\n",
       "    </tr>\n",
       "  </tbody>\n",
       "</table>\n",
       "</div>"
      ],
      "text/plain": [
       "           sqft  taxvaluedollarcnt\n",
       "30731  0.250775             878133\n",
       "24450  0.123786             352000\n",
       "35967  0.099504             373126\n",
       "36633  0.179893             572796\n",
       "50019  0.239926             862713"
      ]
     },
     "execution_count": 13,
     "metadata": {},
     "output_type": "execute_result"
    }
   ],
   "source": [
    "train.head()"
   ]
  },
  {
   "cell_type": "code",
   "execution_count": 14,
   "id": "85706d2c",
   "metadata": {},
   "outputs": [
    {
     "data": {
      "text/html": [
       "<div>\n",
       "<style scoped>\n",
       "    .dataframe tbody tr th:only-of-type {\n",
       "        vertical-align: middle;\n",
       "    }\n",
       "\n",
       "    .dataframe tbody tr th {\n",
       "        vertical-align: top;\n",
       "    }\n",
       "\n",
       "    .dataframe thead th {\n",
       "        text-align: right;\n",
       "    }\n",
       "</style>\n",
       "<table border=\"1\" class=\"dataframe\">\n",
       "  <thead>\n",
       "    <tr style=\"text-align: right;\">\n",
       "      <th></th>\n",
       "      <th>sqft</th>\n",
       "      <th>taxvaluedollarcnt</th>\n",
       "    </tr>\n",
       "  </thead>\n",
       "  <tbody>\n",
       "    <tr>\n",
       "      <th>count</th>\n",
       "      <td>36187.0</td>\n",
       "      <td>36187.0</td>\n",
       "    </tr>\n",
       "    <tr>\n",
       "      <th>min</th>\n",
       "      <td>0.0</td>\n",
       "      <td>1000.0</td>\n",
       "    </tr>\n",
       "    <tr>\n",
       "      <th>max</th>\n",
       "      <td>1.0</td>\n",
       "      <td>11020600.0</td>\n",
       "    </tr>\n",
       "  </tbody>\n",
       "</table>\n",
       "</div>"
      ],
      "text/plain": [
       "          sqft  taxvaluedollarcnt\n",
       "count  36187.0            36187.0\n",
       "min        0.0             1000.0\n",
       "max        1.0         11020600.0"
      ]
     },
     "execution_count": 14,
     "metadata": {},
     "output_type": "execute_result"
    }
   ],
   "source": [
    "train.describe().loc[['count','min','max']]"
   ]
  },
  {
   "cell_type": "code",
   "execution_count": 17,
   "id": "060ab4f8",
   "metadata": {},
   "outputs": [],
   "source": [
    "X_train = train[['sqft']]\n",
    "y_train = train[['taxvaluedollarcnt']]\n",
    "\n",
    "X_val = val[['sqft']]\n",
    "y_val = val[['taxvaluedollarcnt']]\n",
    "\n",
    "X_test = test[['sqft']]\n",
    "y_test = test[['taxvaluedollarcnt']]"
   ]
  },
  {
   "cell_type": "code",
   "execution_count": 19,
   "id": "0e5ef5c1",
   "metadata": {},
   "outputs": [
    {
     "data": {
      "text/html": [
       "<div>\n",
       "<style scoped>\n",
       "    .dataframe tbody tr th:only-of-type {\n",
       "        vertical-align: middle;\n",
       "    }\n",
       "\n",
       "    .dataframe tbody tr th {\n",
       "        vertical-align: top;\n",
       "    }\n",
       "\n",
       "    .dataframe thead th {\n",
       "        text-align: right;\n",
       "    }\n",
       "</style>\n",
       "<table border=\"1\" class=\"dataframe\">\n",
       "  <thead>\n",
       "    <tr style=\"text-align: right;\">\n",
       "      <th></th>\n",
       "      <th>sqft</th>\n",
       "    </tr>\n",
       "  </thead>\n",
       "  <tbody>\n",
       "    <tr>\n",
       "      <th>30731</th>\n",
       "      <td>0.250775</td>\n",
       "    </tr>\n",
       "    <tr>\n",
       "      <th>24450</th>\n",
       "      <td>0.123786</td>\n",
       "    </tr>\n",
       "    <tr>\n",
       "      <th>35967</th>\n",
       "      <td>0.099504</td>\n",
       "    </tr>\n",
       "    <tr>\n",
       "      <th>36633</th>\n",
       "      <td>0.179893</td>\n",
       "    </tr>\n",
       "    <tr>\n",
       "      <th>50019</th>\n",
       "      <td>0.239926</td>\n",
       "    </tr>\n",
       "  </tbody>\n",
       "</table>\n",
       "</div>"
      ],
      "text/plain": [
       "           sqft\n",
       "30731  0.250775\n",
       "24450  0.123786\n",
       "35967  0.099504\n",
       "36633  0.179893\n",
       "50019  0.239926"
      ]
     },
     "execution_count": 19,
     "metadata": {},
     "output_type": "execute_result"
    }
   ],
   "source": [
    "X_train.head()"
   ]
  },
  {
   "cell_type": "code",
   "execution_count": 20,
   "id": "44d07c36",
   "metadata": {},
   "outputs": [
    {
     "data": {
      "text/html": [
       "<style>#sk-container-id-1 {color: black;background-color: white;}#sk-container-id-1 pre{padding: 0;}#sk-container-id-1 div.sk-toggleable {background-color: white;}#sk-container-id-1 label.sk-toggleable__label {cursor: pointer;display: block;width: 100%;margin-bottom: 0;padding: 0.3em;box-sizing: border-box;text-align: center;}#sk-container-id-1 label.sk-toggleable__label-arrow:before {content: \"▸\";float: left;margin-right: 0.25em;color: #696969;}#sk-container-id-1 label.sk-toggleable__label-arrow:hover:before {color: black;}#sk-container-id-1 div.sk-estimator:hover label.sk-toggleable__label-arrow:before {color: black;}#sk-container-id-1 div.sk-toggleable__content {max-height: 0;max-width: 0;overflow: hidden;text-align: left;background-color: #f0f8ff;}#sk-container-id-1 div.sk-toggleable__content pre {margin: 0.2em;color: black;border-radius: 0.25em;background-color: #f0f8ff;}#sk-container-id-1 input.sk-toggleable__control:checked~div.sk-toggleable__content {max-height: 200px;max-width: 100%;overflow: auto;}#sk-container-id-1 input.sk-toggleable__control:checked~label.sk-toggleable__label-arrow:before {content: \"▾\";}#sk-container-id-1 div.sk-estimator input.sk-toggleable__control:checked~label.sk-toggleable__label {background-color: #d4ebff;}#sk-container-id-1 div.sk-label input.sk-toggleable__control:checked~label.sk-toggleable__label {background-color: #d4ebff;}#sk-container-id-1 input.sk-hidden--visually {border: 0;clip: rect(1px 1px 1px 1px);clip: rect(1px, 1px, 1px, 1px);height: 1px;margin: -1px;overflow: hidden;padding: 0;position: absolute;width: 1px;}#sk-container-id-1 div.sk-estimator {font-family: monospace;background-color: #f0f8ff;border: 1px dotted black;border-radius: 0.25em;box-sizing: border-box;margin-bottom: 0.5em;}#sk-container-id-1 div.sk-estimator:hover {background-color: #d4ebff;}#sk-container-id-1 div.sk-parallel-item::after {content: \"\";width: 100%;border-bottom: 1px solid gray;flex-grow: 1;}#sk-container-id-1 div.sk-label:hover label.sk-toggleable__label {background-color: #d4ebff;}#sk-container-id-1 div.sk-serial::before {content: \"\";position: absolute;border-left: 1px solid gray;box-sizing: border-box;top: 0;bottom: 0;left: 50%;z-index: 0;}#sk-container-id-1 div.sk-serial {display: flex;flex-direction: column;align-items: center;background-color: white;padding-right: 0.2em;padding-left: 0.2em;position: relative;}#sk-container-id-1 div.sk-item {position: relative;z-index: 1;}#sk-container-id-1 div.sk-parallel {display: flex;align-items: stretch;justify-content: center;background-color: white;position: relative;}#sk-container-id-1 div.sk-item::before, #sk-container-id-1 div.sk-parallel-item::before {content: \"\";position: absolute;border-left: 1px solid gray;box-sizing: border-box;top: 0;bottom: 0;left: 50%;z-index: -1;}#sk-container-id-1 div.sk-parallel-item {display: flex;flex-direction: column;z-index: 1;position: relative;background-color: white;}#sk-container-id-1 div.sk-parallel-item:first-child::after {align-self: flex-end;width: 50%;}#sk-container-id-1 div.sk-parallel-item:last-child::after {align-self: flex-start;width: 50%;}#sk-container-id-1 div.sk-parallel-item:only-child::after {width: 0;}#sk-container-id-1 div.sk-dashed-wrapped {border: 1px dashed gray;margin: 0 0.4em 0.5em 0.4em;box-sizing: border-box;padding-bottom: 0.4em;background-color: white;}#sk-container-id-1 div.sk-label label {font-family: monospace;font-weight: bold;display: inline-block;line-height: 1.2em;}#sk-container-id-1 div.sk-label-container {text-align: center;}#sk-container-id-1 div.sk-container {/* jupyter's `normalize.less` sets `[hidden] { display: none; }` but bootstrap.min.css set `[hidden] { display: none !important; }` so we also need the `!important` here to be able to override the default hidden behavior on the sphinx rendered scikit-learn.org. See: https://github.com/scikit-learn/scikit-learn/issues/21755 */display: inline-block !important;position: relative;}#sk-container-id-1 div.sk-text-repr-fallback {display: none;}</style><div id=\"sk-container-id-1\" class=\"sk-top-container\"><div class=\"sk-text-repr-fallback\"><pre>LinearRegression()</pre><b>In a Jupyter environment, please rerun this cell to show the HTML representation or trust the notebook. <br />On GitHub, the HTML representation is unable to render, please try loading this page with nbviewer.org.</b></div><div class=\"sk-container\" hidden><div class=\"sk-item\"><div class=\"sk-estimator sk-toggleable\"><input class=\"sk-toggleable__control sk-hidden--visually\" id=\"sk-estimator-id-1\" type=\"checkbox\" checked><label for=\"sk-estimator-id-1\" class=\"sk-toggleable__label sk-toggleable__label-arrow\">LinearRegression</label><div class=\"sk-toggleable__content\"><pre>LinearRegression()</pre></div></div></div></div></div>"
      ],
      "text/plain": [
       "LinearRegression()"
      ]
     },
     "execution_count": 20,
     "metadata": {},
     "output_type": "execute_result"
    }
   ],
   "source": [
    "model = LinearRegression().fit(X_train, y_train)\n",
    "\n",
    "\n",
    "model"
   ]
  },
  {
   "cell_type": "code",
   "execution_count": 21,
   "id": "6603aea3",
   "metadata": {},
   "outputs": [
    {
     "data": {
      "text/plain": [
       "array([[ 807836.96459684],\n",
       "       [ 328567.71841108],\n",
       "       [ 236925.51104439],\n",
       "       ...,\n",
       "       [1047276.6042698 ],\n",
       "       [ 333247.32048938],\n",
       "       [ 125394.99484494]])"
      ]
     },
     "execution_count": 21,
     "metadata": {},
     "output_type": "execute_result"
    }
   ],
   "source": [
    "predictions = model.predict(X_train)\n",
    "\n",
    "predictions"
   ]
  },
  {
   "cell_type": "code",
   "execution_count": 22,
   "id": "5d86c35d",
   "metadata": {},
   "outputs": [],
   "source": [
    "train['yhat'] = predictions"
   ]
  },
  {
   "cell_type": "code",
   "execution_count": 24,
   "id": "33a4a3a3",
   "metadata": {},
   "outputs": [
    {
     "data": {
      "text/html": [
       "<div>\n",
       "<style scoped>\n",
       "    .dataframe tbody tr th:only-of-type {\n",
       "        vertical-align: middle;\n",
       "    }\n",
       "\n",
       "    .dataframe tbody tr th {\n",
       "        vertical-align: top;\n",
       "    }\n",
       "\n",
       "    .dataframe thead th {\n",
       "        text-align: right;\n",
       "    }\n",
       "</style>\n",
       "<table border=\"1\" class=\"dataframe\">\n",
       "  <thead>\n",
       "    <tr style=\"text-align: right;\">\n",
       "      <th></th>\n",
       "      <th>sqft</th>\n",
       "      <th>taxvaluedollarcnt</th>\n",
       "      <th>yhat</th>\n",
       "    </tr>\n",
       "  </thead>\n",
       "  <tbody>\n",
       "    <tr>\n",
       "      <th>30731</th>\n",
       "      <td>0.250775</td>\n",
       "      <td>878133</td>\n",
       "      <td>807836.964597</td>\n",
       "    </tr>\n",
       "    <tr>\n",
       "      <th>24450</th>\n",
       "      <td>0.123786</td>\n",
       "      <td>352000</td>\n",
       "      <td>328567.718411</td>\n",
       "    </tr>\n",
       "    <tr>\n",
       "      <th>35967</th>\n",
       "      <td>0.099504</td>\n",
       "      <td>373126</td>\n",
       "      <td>236925.511044</td>\n",
       "    </tr>\n",
       "    <tr>\n",
       "      <th>36633</th>\n",
       "      <td>0.179893</td>\n",
       "      <td>572796</td>\n",
       "      <td>540319.712454</td>\n",
       "    </tr>\n",
       "    <tr>\n",
       "      <th>50019</th>\n",
       "      <td>0.239926</td>\n",
       "      <td>862713</td>\n",
       "      <td>766890.446412</td>\n",
       "    </tr>\n",
       "  </tbody>\n",
       "</table>\n",
       "</div>"
      ],
      "text/plain": [
       "           sqft  taxvaluedollarcnt           yhat\n",
       "30731  0.250775             878133  807836.964597\n",
       "24450  0.123786             352000  328567.718411\n",
       "35967  0.099504             373126  236925.511044\n",
       "36633  0.179893             572796  540319.712454\n",
       "50019  0.239926             862713  766890.446412"
      ]
     },
     "execution_count": 24,
     "metadata": {},
     "output_type": "execute_result"
    }
   ],
   "source": [
    "train.head()"
   ]
  },
  {
   "cell_type": "markdown",
   "id": "a7180849",
   "metadata": {},
   "source": [
    "## 3. Plot the residuals for the linear regression model that you made."
   ]
  },
  {
   "cell_type": "code",
   "execution_count": 26,
   "id": "1fa2f71f",
   "metadata": {},
   "outputs": [],
   "source": [
    "train['residuals'] =  train.yhat - train.taxvaluedollarcnt"
   ]
  },
  {
   "cell_type": "code",
   "execution_count": 27,
   "id": "fc1721d9",
   "metadata": {},
   "outputs": [
    {
     "data": {
      "text/html": [
       "<div>\n",
       "<style scoped>\n",
       "    .dataframe tbody tr th:only-of-type {\n",
       "        vertical-align: middle;\n",
       "    }\n",
       "\n",
       "    .dataframe tbody tr th {\n",
       "        vertical-align: top;\n",
       "    }\n",
       "\n",
       "    .dataframe thead th {\n",
       "        text-align: right;\n",
       "    }\n",
       "</style>\n",
       "<table border=\"1\" class=\"dataframe\">\n",
       "  <thead>\n",
       "    <tr style=\"text-align: right;\">\n",
       "      <th></th>\n",
       "      <th>sqft</th>\n",
       "      <th>taxvaluedollarcnt</th>\n",
       "      <th>yhat</th>\n",
       "      <th>residuals</th>\n",
       "    </tr>\n",
       "  </thead>\n",
       "  <tbody>\n",
       "    <tr>\n",
       "      <th>30731</th>\n",
       "      <td>0.250775</td>\n",
       "      <td>878133</td>\n",
       "      <td>807836.964597</td>\n",
       "      <td>-70296.035403</td>\n",
       "    </tr>\n",
       "    <tr>\n",
       "      <th>24450</th>\n",
       "      <td>0.123786</td>\n",
       "      <td>352000</td>\n",
       "      <td>328567.718411</td>\n",
       "      <td>-23432.281589</td>\n",
       "    </tr>\n",
       "    <tr>\n",
       "      <th>35967</th>\n",
       "      <td>0.099504</td>\n",
       "      <td>373126</td>\n",
       "      <td>236925.511044</td>\n",
       "      <td>-136200.488956</td>\n",
       "    </tr>\n",
       "    <tr>\n",
       "      <th>36633</th>\n",
       "      <td>0.179893</td>\n",
       "      <td>572796</td>\n",
       "      <td>540319.712454</td>\n",
       "      <td>-32476.287546</td>\n",
       "    </tr>\n",
       "    <tr>\n",
       "      <th>50019</th>\n",
       "      <td>0.239926</td>\n",
       "      <td>862713</td>\n",
       "      <td>766890.446412</td>\n",
       "      <td>-95822.553588</td>\n",
       "    </tr>\n",
       "  </tbody>\n",
       "</table>\n",
       "</div>"
      ],
      "text/plain": [
       "           sqft  taxvaluedollarcnt           yhat      residuals\n",
       "30731  0.250775             878133  807836.964597  -70296.035403\n",
       "24450  0.123786             352000  328567.718411  -23432.281589\n",
       "35967  0.099504             373126  236925.511044 -136200.488956\n",
       "36633  0.179893             572796  540319.712454  -32476.287546\n",
       "50019  0.239926             862713  766890.446412  -95822.553588"
      ]
     },
     "execution_count": 27,
     "metadata": {},
     "output_type": "execute_result"
    }
   ],
   "source": [
    "train.head()"
   ]
  },
  {
   "cell_type": "code",
   "execution_count": 28,
   "id": "a8745447",
   "metadata": {},
   "outputs": [
    {
     "data": {
      "image/png": "[encoded data removed]",
      "text/plain": [
       "<Figure size 640x480 with 1 Axes>"
      ]
     },
     "metadata": {},
     "output_type": "display_data"
    }
   ],
   "source": [
    "sns.scatterplot(data=train, x='taxvaluedollarcnt', y='residuals')\n",
    "\n",
    "plt.xlabel('Actual Home Value')\n",
    "plt.ylabel('Residual Value')\n",
    "plt.title('Residuals vs Actual Value')\n",
    "plt.show()"
   ]
  },
  {
   "cell_type": "markdown",
   "id": "cce21704",
   "metadata": {},
   "source": [
    "## 4. Calculate the sum of squared errors, explained sum of squares, total sum of squares, mean squared error, and root mean squared error for your model."
   ]
  },
  {
   "cell_type": "code",
   "execution_count": 29,
   "id": "9a1043c7",
   "metadata": {},
   "outputs": [
    {
     "data": {
      "text/plain": [
       "8520243013163563.0"
      ]
     },
     "execution_count": 29,
     "metadata": {},
     "output_type": "execute_result"
    }
   ],
   "source": [
    "SSE = (train.residuals **2).sum()\n",
    "SSE"
   ]
  },
  {
   "cell_type": "code",
   "execution_count": 31,
   "id": "a249abb0",
   "metadata": {},
   "outputs": [
    {
     "data": {
      "text/plain": [
       "5050554072923080.0"
      ]
     },
     "execution_count": 31,
     "metadata": {},
     "output_type": "execute_result"
    }
   ],
   "source": [
    "ESS = ((train.yhat - train.taxvaluedollarcnt.mean())**2).sum()\n",
    "ESS"
   ]
  },
  {
   "cell_type": "code",
   "execution_count": 32,
   "id": "320a6f67",
   "metadata": {},
   "outputs": [
    {
     "data": {
      "text/plain": [
       "1.3570797086086644e+16"
      ]
     },
     "execution_count": 32,
     "metadata": {},
     "output_type": "execute_result"
    }
   ],
   "source": [
    "TSS = ESS + SSE\n",
    "TSS"
   ]
  },
  {
   "cell_type": "code",
   "execution_count": 33,
   "id": "e9b71c95",
   "metadata": {},
   "outputs": [
    {
     "data": {
      "text/plain": [
       "235450383097.89603"
      ]
     },
     "execution_count": 33,
     "metadata": {},
     "output_type": "execute_result"
    }
   ],
   "source": [
    "SSE/len(train.yhat)"
   ]
  },
  {
   "cell_type": "code",
   "execution_count": 35,
   "id": "279be3cf",
   "metadata": {},
   "outputs": [
    {
     "data": {
      "text/plain": [
       "235450383097.89603"
      ]
     },
     "execution_count": 35,
     "metadata": {},
     "output_type": "execute_result"
    }
   ],
   "source": [
    "MSE = mean_squared_error(train.taxvaluedollarcnt, train.yhat)\n",
    "MSE"
   ]
  },
  {
   "cell_type": "code",
   "execution_count": 36,
   "id": "9498e359",
   "metadata": {},
   "outputs": [
    {
     "data": {
      "text/plain": [
       "485232.2980778341"
      ]
     },
     "execution_count": 36,
     "metadata": {},
     "output_type": "execute_result"
    }
   ],
   "source": [
    "RMSE = MSE**.5\n",
    "RMSE"
   ]
  },
  {
   "cell_type": "code",
   "execution_count": 39,
   "id": "5229e7bd",
   "metadata": {},
   "outputs": [
    {
     "data": {
      "text/plain": [
       "485232.2980778341"
      ]
     },
     "execution_count": 39,
     "metadata": {},
     "output_type": "execute_result"
    }
   ],
   "source": [
    "math.sqrt(MSE)"
   ]
  },
  {
   "cell_type": "markdown",
   "id": "cd717815",
   "metadata": {},
   "source": [
    "## 5. Calculate the sum of squared errors, mean squared error, and root mean squared error for the baseline model (i.e. a model that always predicts the average taxvaluedollarcnt amount)"
   ]
  },
  {
   "cell_type": "code",
   "execution_count": 40,
   "id": "9d3c38b3",
   "metadata": {},
   "outputs": [],
   "source": [
    "train['baseline'] = train.taxvaluedollarcnt.mean()"
   ]
  },
  {
   "cell_type": "code",
   "execution_count": 42,
   "id": "9a7bf93a",
   "metadata": {},
   "outputs": [
    {
     "data": {
      "text/plain": [
       "375018572583.70795"
      ]
     },
     "execution_count": 42,
     "metadata": {},
     "output_type": "execute_result"
    }
   ],
   "source": [
    "MSE_baseline = mean_squared_error(train.taxvaluedollarcnt, train.baseline)\n",
    "MSE_baseline"
   ]
  },
  {
   "cell_type": "code",
   "execution_count": 43,
   "id": "0f6f6faf",
   "metadata": {},
   "outputs": [],
   "source": [
    "train['MSE_baseline'] = MSE_baseline"
   ]
  },
  {
   "cell_type": "code",
   "execution_count": 44,
   "id": "426b176a",
   "metadata": {},
   "outputs": [
    {
     "data": {
      "text/plain": [
       "1.357079708608664e+16"
      ]
     },
     "execution_count": 44,
     "metadata": {},
     "output_type": "execute_result"
    }
   ],
   "source": [
    "SSE_baseline = MSE_baseline * len(train)\n",
    "SSE_baseline"
   ]
  },
  {
   "cell_type": "code",
   "execution_count": 45,
   "id": "798bd518",
   "metadata": {},
   "outputs": [],
   "source": [
    "train['SSE_baseline'] = SSE_baseline"
   ]
  },
  {
   "cell_type": "code",
   "execution_count": 46,
   "id": "e58aeaaf",
   "metadata": {},
   "outputs": [
    {
     "data": {
      "text/plain": [
       "612387.5999591337"
      ]
     },
     "execution_count": 46,
     "metadata": {},
     "output_type": "execute_result"
    }
   ],
   "source": [
    "RMSE_baseline = MSE_baseline**.5\n",
    "RMSE_baseline"
   ]
  },
  {
   "cell_type": "code",
   "execution_count": 47,
   "id": "511d5f2f",
   "metadata": {},
   "outputs": [],
   "source": [
    "train['RMSE_baseline'] = RMSE_baseline"
   ]
  },
  {
   "cell_type": "code",
   "execution_count": 48,
   "id": "dfbf2eed",
   "metadata": {},
   "outputs": [
    {
     "data": {
      "text/html": [
       "<div>\n",
       "<style scoped>\n",
       "    .dataframe tbody tr th:only-of-type {\n",
       "        vertical-align: middle;\n",
       "    }\n",
       "\n",
       "    .dataframe tbody tr th {\n",
       "        vertical-align: top;\n",
       "    }\n",
       "\n",
       "    .dataframe thead th {\n",
       "        text-align: right;\n",
       "    }\n",
       "</style>\n",
       "<table border=\"1\" class=\"dataframe\">\n",
       "  <thead>\n",
       "    <tr style=\"text-align: right;\">\n",
       "      <th></th>\n",
       "      <th>sqft</th>\n",
       "      <th>taxvaluedollarcnt</th>\n",
       "      <th>yhat</th>\n",
       "      <th>residuals</th>\n",
       "      <th>baseline</th>\n",
       "      <th>MSE_baseline</th>\n",
       "      <th>SSE_baseline</th>\n",
       "      <th>RMSE_baseline</th>\n",
       "    </tr>\n",
       "  </thead>\n",
       "  <tbody>\n",
       "    <tr>\n",
       "      <th>30731</th>\n",
       "      <td>0.250775</td>\n",
       "      <td>878133</td>\n",
       "      <td>807836.964597</td>\n",
       "      <td>-70296.035403</td>\n",
       "      <td>512675.668279</td>\n",
       "      <td>3.750186e+11</td>\n",
       "      <td>1.357080e+16</td>\n",
       "      <td>612387.599959</td>\n",
       "    </tr>\n",
       "    <tr>\n",
       "      <th>24450</th>\n",
       "      <td>0.123786</td>\n",
       "      <td>352000</td>\n",
       "      <td>328567.718411</td>\n",
       "      <td>-23432.281589</td>\n",
       "      <td>512675.668279</td>\n",
       "      <td>3.750186e+11</td>\n",
       "      <td>1.357080e+16</td>\n",
       "      <td>612387.599959</td>\n",
       "    </tr>\n",
       "    <tr>\n",
       "      <th>35967</th>\n",
       "      <td>0.099504</td>\n",
       "      <td>373126</td>\n",
       "      <td>236925.511044</td>\n",
       "      <td>-136200.488956</td>\n",
       "      <td>512675.668279</td>\n",
       "      <td>3.750186e+11</td>\n",
       "      <td>1.357080e+16</td>\n",
       "      <td>612387.599959</td>\n",
       "    </tr>\n",
       "    <tr>\n",
       "      <th>36633</th>\n",
       "      <td>0.179893</td>\n",
       "      <td>572796</td>\n",
       "      <td>540319.712454</td>\n",
       "      <td>-32476.287546</td>\n",
       "      <td>512675.668279</td>\n",
       "      <td>3.750186e+11</td>\n",
       "      <td>1.357080e+16</td>\n",
       "      <td>612387.599959</td>\n",
       "    </tr>\n",
       "    <tr>\n",
       "      <th>50019</th>\n",
       "      <td>0.239926</td>\n",
       "      <td>862713</td>\n",
       "      <td>766890.446412</td>\n",
       "      <td>-95822.553588</td>\n",
       "      <td>512675.668279</td>\n",
       "      <td>3.750186e+11</td>\n",
       "      <td>1.357080e+16</td>\n",
       "      <td>612387.599959</td>\n",
       "    </tr>\n",
       "  </tbody>\n",
       "</table>\n",
       "</div>"
      ],
      "text/plain": [
       "           sqft  taxvaluedollarcnt           yhat      residuals  \\\n",
       "30731  0.250775             878133  807836.964597  -70296.035403   \n",
       "24450  0.123786             352000  328567.718411  -23432.281589   \n",
       "35967  0.099504             373126  236925.511044 -136200.488956   \n",
       "36633  0.179893             572796  540319.712454  -32476.287546   \n",
       "50019  0.239926             862713  766890.446412  -95822.553588   \n",
       "\n",
       "            baseline  MSE_baseline  SSE_baseline  RMSE_baseline  \n",
       "30731  512675.668279  3.750186e+11  1.357080e+16  612387.599959  \n",
       "24450  512675.668279  3.750186e+11  1.357080e+16  612387.599959  \n",
       "35967  512675.668279  3.750186e+11  1.357080e+16  612387.599959  \n",
       "36633  512675.668279  3.750186e+11  1.357080e+16  612387.599959  \n",
       "50019  512675.668279  3.750186e+11  1.357080e+16  612387.599959  "
      ]
     },
     "execution_count": 48,
     "metadata": {},
     "output_type": "execute_result"
    }
   ],
   "source": [
    "train.head()"
   ]
  },
  {
   "cell_type": "code",
   "execution_count": null,
   "id": "5c8e7583",
   "metadata": {},
   "outputs": [],
   "source": []
  },
  {
   "cell_type": "markdown",
   "id": "b7a7333d",
   "metadata": {},
   "source": [
    "## 6. Write python code that compares the sum of squared errors for your model against the sum of squared errors for the baseline model and outputs whether or not your model performs better than the baseline model."
   ]
  },
  {
   "cell_type": "code",
   "execution_count": 49,
   "id": "7b79be5a",
   "metadata": {},
   "outputs": [
    {
     "name": "stdout",
     "output_type": "stream",
     "text": [
      "My OSL model performs better than baseline\n"
     ]
    }
   ],
   "source": [
    "if SSE < SSE_baseline:\n",
    "    print('My OSL model performs better than baseline')\n",
    "else:\n",
    "    print('My OSL model performs worse than baseline. :( )')"
   ]
  },
  {
   "cell_type": "code",
   "execution_count": null,
   "id": "788b79d7",
   "metadata": {},
   "outputs": [],
   "source": []
  },
  {
   "cell_type": "markdown",
   "id": "c956d297",
   "metadata": {},
   "source": [
    "## 7. What is the amount of variance explained in your model?"
   ]
  },
  {
   "cell_type": "code",
   "execution_count": 50,
   "id": "9acb9df4",
   "metadata": {},
   "outputs": [
    {
     "data": {
      "text/plain": [
       "0.3721634065327763"
      ]
     },
     "execution_count": 50,
     "metadata": {},
     "output_type": "execute_result"
    }
   ],
   "source": [
    "R2 = ESS / TSS\n",
    "R2"
   ]
  },
  {
   "cell_type": "code",
   "execution_count": 51,
   "id": "b3586d8f",
   "metadata": {},
   "outputs": [
    {
     "name": "stdout",
     "output_type": "stream",
     "text": [
      "R-squared =  0.372\n",
      "Percent of variance =  37.2 %\n"
     ]
    }
   ],
   "source": [
    "print('R-squared = ',round(R2,3))\n",
    "print(\"Percent of variance = \", round(R2*100,1), \"%\")"
   ]
  },
  {
   "cell_type": "code",
   "execution_count": 55,
   "id": "fd123ce3",
   "metadata": {},
   "outputs": [
    {
     "data": {
      "text/plain": [
       "0.37216340653277624"
      ]
     },
     "execution_count": 55,
     "metadata": {},
     "output_type": "execute_result"
    }
   ],
   "source": [
    "r2_score(train.taxvaluedollarcnt, train.yhat)"
   ]
  },
  {
   "cell_type": "code",
   "execution_count": 57,
   "id": "f6926247",
   "metadata": {},
   "outputs": [
    {
     "name": "stdout",
     "output_type": "stream",
     "text": [
      "Explained Variance =  0.372\n"
     ]
    }
   ],
   "source": [
    "evs = explained_variance_score(train.taxvaluedollarcnt, train.yhat)\n",
    "print('Explained Variance = ', round(evs,3))"
   ]
  },
  {
   "cell_type": "markdown",
   "id": "74b6c539",
   "metadata": {},
   "source": [
    "## 8. Is your model better than the baseline model?"
   ]
  },
  {
   "cell_type": "code",
   "execution_count": 58,
   "id": "7cbd5c52",
   "metadata": {},
   "outputs": [
    {
     "data": {
      "text/plain": [
       "127155.30188129959"
      ]
     },
     "execution_count": 58,
     "metadata": {},
     "output_type": "execute_result"
    }
   ],
   "source": [
    "RMSE_baseline - RMSE"
   ]
  },
  {
   "cell_type": "code",
   "execution_count": 59,
   "id": "2f38676c",
   "metadata": {},
   "outputs": [
    {
     "name": "stdout",
     "output_type": "stream",
     "text": [
      "The model rmse performs better the rmse_baseline\n"
     ]
    }
   ],
   "source": [
    "if RMSE < RMSE_baseline:\n",
    "    print(f'The model rmse performs better the rmse_baseline')\n",
    "else:\n",
    "    print(f'The model rmse performs worse than the rmse_baseline')"
   ]
  },
  {
   "cell_type": "code",
   "execution_count": null,
   "id": "df17da69",
   "metadata": {},
   "outputs": [],
   "source": []
  },
  {
   "cell_type": "markdown",
   "id": "e8a33ea9",
   "metadata": {},
   "source": [
    "## 9. Create a file named evaluate.py that contains the following functions.\n",
    "\n",
    "* plot_residuals(y, yhat): creates a residual plot\n",
    "* regression_errors(y, yhat): returns the following values:\n",
    "* sum of squared errors (SSE)\n",
    "* explained sum of squares (ESS)\n",
    "* total sum of squares (TSS)\n",
    "* mean squared error (MSE)\n",
    "* root mean squared error (RMSE)\n",
    "* baseline_mean_errors(y): computes the SSE, MSE, and RMSE for the baseline model\n",
    "* better_than_baseline(y, yhat): returns true if your model performs better than the baseline, otherwise false"
   ]
  },
  {
   "cell_type": "code",
   "execution_count": 61,
   "id": "54db8fdc",
   "metadata": {},
   "outputs": [],
   "source": [
    "def plot_residuals(y, yhat):\n",
    "    '''\n",
    "    This function takes in actual value and predicted value \n",
    "    then creates a scatter plot of those values\n",
    "    '''\n",
    "    residuals = y - yhat\n",
    "    \n",
    "    plt.scatter(x=y, y=residuals)\n",
    "    plt.xlabel('Home Value')\n",
    "    plt.ylabel('Residuals')\n",
    "    plt.title('Residual vs Home Value Plot')\n",
    "    plt.show()"
   ]
  },
  {
   "cell_type": "code",
   "execution_count": 62,
   "id": "b49c25b5",
   "metadata": {},
   "outputs": [
    {
     "data": {
      "image/png": "[encoded data removed]",
      "text/plain": [
       "<Figure size 640x480 with 1 Axes>"
      ]
     },
     "metadata": {},
     "output_type": "display_data"
    }
   ],
   "source": [
    "plot_residuals(train.taxvaluedollarcnt, train.yhat)"
   ]
  },
  {
   "cell_type": "code",
   "execution_count": 63,
   "id": "6e9fedc1",
   "metadata": {},
   "outputs": [],
   "source": [
    "def regression_errors(y, yhat):\n",
    "    '''\n",
    "    This function takes in actual value and predicted value \n",
    "    then outputs: the sse, ess, tss, mse, and rmse\n",
    "    '''\n",
    "    MSE = mean_squared_error(y, yhat)\n",
    "    SSE = MSE * len(y)\n",
    "    RMSE = math.sqrt(MSE)\n",
    "    ESS = ((yhat - y.mean())**2).sum()\n",
    "    TSS = ESS + SSE\n",
    "           \n",
    "    print(f'SSE: {SSE: .4f}')\n",
    "    print(f'ESS: {ESS: .4f}')\n",
    "    print(f'TSS: {TSS: .4f}')\n",
    "    print(f'MSE: {MSE: .4f}')\n",
    "    print(f'RMSE: {RMSE: .4f}')\n",
    "\n",
    "    return MSE, SSE, RMSE, ESS, TSS"
   ]
  },
  {
   "cell_type": "code",
   "execution_count": 64,
   "id": "7a6751b7",
   "metadata": {},
   "outputs": [
    {
     "name": "stdout",
     "output_type": "stream",
     "text": [
      "SSE:  8520243013163564.0000\n",
      "ESS:  5050554072923080.0000\n",
      "TSS:  13570797086086644.0000\n",
      "MSE:  235450383097.8960\n",
      "RMSE:  485232.2981\n"
     ]
    },
    {
     "data": {
      "text/plain": [
       "(235450383097.89603,\n",
       " 8520243013163564.0,\n",
       " 485232.2980778341,\n",
       " 5050554072923080.0,\n",
       " 1.3570797086086644e+16)"
      ]
     },
     "execution_count": 64,
     "metadata": {},
     "output_type": "execute_result"
    }
   ],
   "source": [
    "regression_errors(train.taxvaluedollarcnt, train.yhat)"
   ]
  },
  {
   "cell_type": "code",
   "execution_count": 65,
   "id": "57efa2bf",
   "metadata": {},
   "outputs": [],
   "source": [
    "def baseline_mean_errors(y):\n",
    "    baseline = np.repeat(y.mean(), len(y))\n",
    "    \n",
    "    MSE = mean_squared_error(y, baseline)\n",
    "    SSE = MSE * len(y)\n",
    "    RMSE = MSE**.5\n",
    "    \n",
    "    print(f'sse_baseline: {SSE: .4f}')\n",
    "    print(f'mse_baseline: {MSE: .4f}')\n",
    "    print(f'rmse_baseline: {RMSE: .4f}')\n",
    "    \n",
    "    return MSE, SSE, RMSE"
   ]
  },
  {
   "cell_type": "code",
   "execution_count": 67,
   "id": "17c104c0",
   "metadata": {},
   "outputs": [
    {
     "name": "stdout",
     "output_type": "stream",
     "text": [
      "sse_baseline:  13570797086086640.0000\n",
      "mse_baseline:  375018572583.7079\n",
      "rmse_baseline:  612387.6000\n"
     ]
    },
    {
     "data": {
      "text/plain": [
       "(375018572583.70795, 1.357079708608664e+16, 612387.5999591337)"
      ]
     },
     "execution_count": 67,
     "metadata": {},
     "output_type": "execute_result"
    }
   ],
   "source": [
    "baseline_mean_errors(train.taxvaluedollarcnt)"
   ]
  },
  {
   "cell_type": "code",
   "execution_count": 68,
   "id": "8576bdb8",
   "metadata": {},
   "outputs": [],
   "source": [
    "def better_than_baseline(y, yhat):\n",
    "    '''\n",
    "    This function takes in the target and the prediction\n",
    "    then returns a print statement \n",
    "    to inform us if the model outperforms the baseline\n",
    "    '''\n",
    "    SSE, ESS, TSS, MSE, RMSE = regression_errors(y, yhat)\n",
    "    \n",
    "    SSE_baseline, MSE_baseline, RMSE_baseline = baseline_mean_errors(y)\n",
    "    \n",
    "    if SSE < SSE_baseline:\n",
    "        print('My OSL model performs better than baseline')\n",
    "    else:\n",
    "        print('My OSL model performs worse than baseline. :( )')"
   ]
  },
  {
   "cell_type": "code",
   "execution_count": 69,
   "id": "7b36aee1",
   "metadata": {},
   "outputs": [
    {
     "name": "stdout",
     "output_type": "stream",
     "text": [
      "SSE:  8520243013163564.0000\n",
      "ESS:  5050554072923080.0000\n",
      "TSS:  13570797086086644.0000\n",
      "MSE:  235450383097.8960\n",
      "RMSE:  485232.2981\n",
      "sse_baseline:  13570797086086640.0000\n",
      "mse_baseline:  375018572583.7079\n",
      "rmse_baseline:  612387.6000\n",
      "My OSL model performs better than baseline\n"
     ]
    }
   ],
   "source": [
    "better_than_baseline(train.taxvaluedollarcnt, train.yhat)\n"
   ]
  },
  {
   "cell_type": "code",
   "execution_count": null,
   "id": "52237b90",
   "metadata": {},
   "outputs": [],
   "source": []
  }
 ],
 "metadata": {
  "kernelspec": {
   "display_name": "Python 3 (ipykernel)",
   "language": "python",
   "name": "python3"
  },
  "language_info": {
   "codemirror_mode": {
    "name": "ipython",
    "version": 3
   },
   "file_extension": ".py",
   "mimetype": "text/x-python",
   "name": "python",
   "nbconvert_exporter": "python",
   "pygments_lexer": "ipython3",
   "version": "3.9.13"
  }
 },
 "nbformat": 4,
 "nbformat_minor": 5
}
