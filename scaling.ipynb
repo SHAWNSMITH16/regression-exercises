{
 "cells": [
  {
   "cell_type": "code",
   "execution_count": 1,
   "id": "a5d6b99c",
   "metadata": {},
   "outputs": [],
   "source": [
    "import pandas as pd\n",
    "import numpy as np\n",
    "import matplotlib.pyplot as plt\n",
    "import seaborn as sns\n",
    "from sklearn.model_selection import train_test_split\n",
    "from sklearn.preprocessing import RobustScaler\n",
    "from sklearn.preprocessing import QuantileTransformer\n",
    "from sklearn.preprocessing import MinMaxScaler\n",
    "from sklearn.preprocessing import StandardScaler\n",
    "\n",
    "from env import get_connection\n",
    "import wrangle_zillow\n",
    "import prepare\n",
    "\n",
    "# turn off pink boxes for demo\n",
    "import warnings\n",
    "warnings.filterwarnings(\"ignore\")"
   ]
  },
  {
   "cell_type": "code",
   "execution_count": 2,
   "id": "c81bc540",
   "metadata": {},
   "outputs": [],
   "source": [
    "df = wrangle_zillow.wrangle_zillow()\n"
   ]
  },
  {
   "cell_type": "code",
   "execution_count": 3,
   "id": "f6b73ee7",
   "metadata": {},
   "outputs": [
    {
     "data": {
      "text/html": [
       "<div>\n",
       "<style scoped>\n",
       "    .dataframe tbody tr th:only-of-type {\n",
       "        vertical-align: middle;\n",
       "    }\n",
       "\n",
       "    .dataframe tbody tr th {\n",
       "        vertical-align: top;\n",
       "    }\n",
       "\n",
       "    .dataframe thead th {\n",
       "        text-align: right;\n",
       "    }\n",
       "</style>\n",
       "<table border=\"1\" class=\"dataframe\">\n",
       "  <thead>\n",
       "    <tr style=\"text-align: right;\">\n",
       "      <th></th>\n",
       "      <th>bed</th>\n",
       "      <th>bath</th>\n",
       "      <th>sqft</th>\n",
       "      <th>tax_value</th>\n",
       "      <th>yr_blt</th>\n",
       "      <th>yearly_tax</th>\n",
       "      <th>fips</th>\n",
       "    </tr>\n",
       "  </thead>\n",
       "  <tbody>\n",
       "    <tr>\n",
       "      <th>4</th>\n",
       "      <td>4</td>\n",
       "      <td>2</td>\n",
       "      <td>3633.0</td>\n",
       "      <td>296425</td>\n",
       "      <td>2005</td>\n",
       "      <td>6941.39</td>\n",
       "      <td>6037</td>\n",
       "    </tr>\n",
       "    <tr>\n",
       "      <th>6</th>\n",
       "      <td>3</td>\n",
       "      <td>4</td>\n",
       "      <td>1620.0</td>\n",
       "      <td>847770</td>\n",
       "      <td>2011</td>\n",
       "      <td>10244.94</td>\n",
       "      <td>6037</td>\n",
       "    </tr>\n",
       "    <tr>\n",
       "      <th>7</th>\n",
       "      <td>3</td>\n",
       "      <td>2</td>\n",
       "      <td>2077.0</td>\n",
       "      <td>646760</td>\n",
       "      <td>1926</td>\n",
       "      <td>7924.68</td>\n",
       "      <td>6037</td>\n",
       "    </tr>\n",
       "    <tr>\n",
       "      <th>15</th>\n",
       "      <td>0</td>\n",
       "      <td>0</td>\n",
       "      <td>203.0</td>\n",
       "      <td>14166</td>\n",
       "      <td>1960</td>\n",
       "      <td>163.79</td>\n",
       "      <td>6037</td>\n",
       "    </tr>\n",
       "    <tr>\n",
       "      <th>18</th>\n",
       "      <td>3</td>\n",
       "      <td>1</td>\n",
       "      <td>1244.0</td>\n",
       "      <td>169471</td>\n",
       "      <td>1950</td>\n",
       "      <td>2532.88</td>\n",
       "      <td>6037</td>\n",
       "    </tr>\n",
       "  </tbody>\n",
       "</table>\n",
       "</div>"
      ],
      "text/plain": [
       "    bed  bath    sqft  tax_value  yr_blt  yearly_tax  fips\n",
       "4     4     2  3633.0     296425    2005     6941.39  6037\n",
       "6     3     4  1620.0     847770    2011    10244.94  6037\n",
       "7     3     2  2077.0     646760    1926     7924.68  6037\n",
       "15    0     0   203.0      14166    1960      163.79  6037\n",
       "18    3     1  1244.0     169471    1950     2532.88  6037"
      ]
     },
     "execution_count": 3,
     "metadata": {},
     "output_type": "execute_result"
    }
   ],
   "source": [
    "df.head()"
   ]
  },
  {
   "cell_type": "code",
   "execution_count": 4,
   "id": "23febad6",
   "metadata": {},
   "outputs": [
    {
     "name": "stdout",
     "output_type": "stream",
     "text": [
      "<class 'pandas.core.frame.DataFrame'>\n",
      "Int64Index: 2137838 entries, 4 to 2152862\n",
      "Data columns (total 7 columns):\n",
      " #   Column      Non-Null Count    Dtype  \n",
      "---  ------      --------------    -----  \n",
      " 0   bed         2137838 non-null  int64  \n",
      " 1   bath        2137838 non-null  int64  \n",
      " 2   sqft        2137838 non-null  float64\n",
      " 3   tax_value   2137838 non-null  int64  \n",
      " 4   yr_blt      2137838 non-null  int64  \n",
      " 5   yearly_tax  2137838 non-null  float64\n",
      " 6   fips        2137838 non-null  int64  \n",
      "dtypes: float64(2), int64(5)\n",
      "memory usage: 130.5 MB\n"
     ]
    }
   ],
   "source": [
    "df.info(show_counts = True)"
   ]
  },
  {
   "cell_type": "code",
   "execution_count": 5,
   "id": "1f49fec4",
   "metadata": {},
   "outputs": [
    {
     "data": {
      "text/plain": [
       "((1496486, 7), (384811, 7), (256541, 7))"
      ]
     },
     "execution_count": 5,
     "metadata": {},
     "output_type": "execute_result"
    }
   ],
   "source": [
    "train, validate, test = prepare.train_val_test(df)\n",
    "train.shape, validate.shape, test.shape"
   ]
  },
  {
   "cell_type": "code",
   "execution_count": null,
   "id": "2287e862",
   "metadata": {},
   "outputs": [],
   "source": [
    "train"
   ]
  },
  {
   "cell_type": "code",
   "execution_count": 6,
   "id": "cb1605f7",
   "metadata": {},
   "outputs": [
    {
     "ename": "NameError",
     "evalue": "name 'train_scaled' is not defined",
     "output_type": "error",
     "traceback": [
      "\u001b[0;31m---------------------------------------------------------------------------\u001b[0m",
      "\u001b[0;31mNameError\u001b[0m                                 Traceback (most recent call last)",
      "Input \u001b[0;32mIn [6]\u001b[0m, in \u001b[0;36m<cell line: 6>\u001b[0;34m()\u001b[0m\n\u001b[1;32m      4\u001b[0m scaler \u001b[38;5;241m=\u001b[39m MinMaxScaler()\n\u001b[1;32m      5\u001b[0m \u001b[38;5;66;03m# fit the object to my data:\u001b[39;00m\n\u001b[0;32m----> 6\u001b[0m \u001b[43mtrain_scaled\u001b[49m[columns_to_scale] \u001b[38;5;241m=\u001b[39m scaler\u001b[38;5;241m.\u001b[39mfit_transform(train[columns_to_scale])\n",
      "\u001b[0;31mNameError\u001b[0m: name 'train_scaled' is not defined"
     ]
    }
   ],
   "source": [
    "# make, fit, use:\n",
    "columns_to_scale = ['sqft', 'yearly_tax']\n",
    "# make the object, put it into the variable scaler\n",
    "scaler = MinMaxScaler()\n",
    "# fit the object to my data:\n",
    "train_scaled[columns_to_scale] = scaler.fit_transform(train[columns_to_scale])"
   ]
  },
  {
   "cell_type": "code",
   "execution_count": null,
   "id": "be9225c0",
   "metadata": {},
   "outputs": [],
   "source": [
    "rs_scaler = RobustScaler()\n",
    "\n",
    "rs_scaler.fit(train[['sqft']])\n",
    "\n",
    "rs_sqft = rs_scaler.transform(train[['sqft']])\n",
    "rs_sqft[:5]"
   ]
  },
  {
   "cell_type": "code",
   "execution_count": null,
   "id": "6d5ade05",
   "metadata": {},
   "outputs": [],
   "source": [
    "plt.subplot(121)\n",
    "plt.hist(train.sqft)\n",
    "plt.title('OG data')\n",
    "\n",
    "\n",
    "plt.subplot(122)\n",
    "plt.hist(rs_sqft)\n",
    "plt.title('Scaled data')"
   ]
  },
  {
   "cell_type": "code",
   "execution_count": null,
   "id": "88a91ee9",
   "metadata": {},
   "outputs": [],
   "source": [
    "rs_inverse_sqft = rs_scaler.inverse_transform(train[['sqft']])\n",
    "rs_sqft[:5]"
   ]
  },
  {
   "cell_type": "code",
   "execution_count": null,
   "id": "947d234c",
   "metadata": {
    "scrolled": false
   },
   "outputs": [],
   "source": [
    "plt.subplot(131)\n",
    "plt.hist(train.sqft)\n",
    "plt.title('OG data')\n",
    "\n",
    "\n",
    "plt.subplot(133)\n",
    "plt.hist(rs_inverse_sqft)\n",
    "plt.title('Inverse Scaled data')"
   ]
  },
  {
   "cell_type": "code",
   "execution_count": null,
   "id": "c0b2c08b",
   "metadata": {},
   "outputs": [],
   "source": [
    "qt_scaler = QuantileTransformer(output_distribution = 'normal')"
   ]
  },
  {
   "cell_type": "code",
   "execution_count": null,
   "id": "664d8a39",
   "metadata": {},
   "outputs": [],
   "source": [
    "qt_scaler.fit(train[['sqft']])"
   ]
  },
  {
   "cell_type": "code",
   "execution_count": null,
   "id": "60732ffe",
   "metadata": {},
   "outputs": [],
   "source": [
    "qt_sqft = qt_scaler.transform(train[['sqft']])\n",
    "qt_sqft"
   ]
  },
  {
   "cell_type": "code",
   "execution_count": null,
   "id": "23f2e6e6",
   "metadata": {},
   "outputs": [],
   "source": [
    "plt.subplot(121)\n",
    "plt.hist(train.sqft)\n",
    "plt.title('OG data')\n",
    "\n",
    "\n",
    "plt.subplot(122)\n",
    "plt.hist(qt_sqft)\n",
    "plt.title('Scaled data')"
   ]
  },
  {
   "cell_type": "code",
   "execution_count": null,
   "id": "37e2f21a",
   "metadata": {},
   "outputs": [],
   "source": [
    "mm_scaler = MinMaxScaler()"
   ]
  },
  {
   "cell_type": "code",
   "execution_count": null,
   "id": "a6ff2763",
   "metadata": {},
   "outputs": [],
   "source": [
    "mm_scaler.fit(train[['sqft']])"
   ]
  },
  {
   "cell_type": "code",
   "execution_count": null,
   "id": "1cda7286",
   "metadata": {},
   "outputs": [],
   "source": [
    "mm_sqft = mm_scaler.transform(train[['sqft']])\n",
    "mm_sqft"
   ]
  },
  {
   "cell_type": "code",
   "execution_count": null,
   "id": "b596a804",
   "metadata": {},
   "outputs": [],
   "source": []
  },
  {
   "cell_type": "code",
   "execution_count": null,
   "id": "8a212d75",
   "metadata": {},
   "outputs": [],
   "source": [
    "train.describe().T"
   ]
  },
  {
   "cell_type": "code",
   "execution_count": null,
   "id": "503f02da",
   "metadata": {},
   "outputs": [],
   "source": [
    "plt.subplot(121)\n",
    "plt.hist(train.sqft)\n",
    "plt.title('OG data')\n",
    "\n",
    "\n",
    "plt.subplot(122)\n",
    "plt.hist(mm_sqft)\n",
    "plt.title('Scaled data')"
   ]
  },
  {
   "cell_type": "code",
   "execution_count": null,
   "id": "185343e5",
   "metadata": {},
   "outputs": [],
   "source": [
    "ss_scaler = StandardScaler()"
   ]
  },
  {
   "cell_type": "code",
   "execution_count": null,
   "id": "857d1f25",
   "metadata": {},
   "outputs": [],
   "source": [
    "ss_scaler.fit(train[['sqft']])"
   ]
  },
  {
   "cell_type": "code",
   "execution_count": null,
   "id": "f71c8a4a",
   "metadata": {},
   "outputs": [],
   "source": [
    "ss_sqft = ss_scaler.transform(train[['sqft']])\n",
    "ss_sqft"
   ]
  },
  {
   "cell_type": "code",
   "execution_count": null,
   "id": "0ed8d8ae",
   "metadata": {},
   "outputs": [],
   "source": [
    "plt.subplot(121)\n",
    "plt.hist(train.sqft)\n",
    "plt.title('OG data')\n",
    "\n",
    "\n",
    "plt.subplot(122)\n",
    "plt.hist(ss_sqft)\n",
    "plt.title('Scaled data')"
   ]
  },
  {
   "cell_type": "code",
   "execution_count": null,
   "id": "758e10f3",
   "metadata": {},
   "outputs": [],
   "source": [
    "#Calling the function and assigning the appropriate variables\n",
    "scaler, train_scaled, validate_scaled, test_scaled = prepare.scale_splits_rb(train, validate, test, return_scaler = True)    "
   ]
  },
  {
   "cell_type": "code",
   "execution_count": null,
   "id": "db4f162e",
   "metadata": {},
   "outputs": [],
   "source": []
  },
  {
   "cell_type": "code",
   "execution_count": null,
   "id": "15ee6e26",
   "metadata": {},
   "outputs": [],
   "source": []
  },
  {
   "cell_type": "code",
   "execution_count": null,
   "id": "5b97bc5b",
   "metadata": {},
   "outputs": [],
   "source": []
  },
  {
   "cell_type": "markdown",
   "id": "6ff3e451",
   "metadata": {},
   "source": [
    "# make a list of my values\n",
    "values = ['bedrooms', 'bathrooms','tax_amount', 'sq_feet']\n",
    "# make the object\n",
    "scaler = MinMaxScaler()\n",
    "# fit the object to my data:\n",
    "train_scaled[values] = scaler.fit_transform(train[values])"
   ]
  },
  {
   "cell_type": "code",
   "execution_count": null,
   "id": "d40c338a",
   "metadata": {},
   "outputs": [],
   "source": []
  }
 ],
 "metadata": {
  "kernelspec": {
   "display_name": "Python 3 (ipykernel)",
   "language": "python",
   "name": "python3"
  },
  "language_info": {
   "codemirror_mode": {
    "name": "ipython",
    "version": 3
   },
   "file_extension": ".py",
   "mimetype": "text/x-python",
   "name": "python",
   "nbconvert_exporter": "python",
   "pygments_lexer": "ipython3",
   "version": "3.9.13"
  }
 },
 "nbformat": 4,
 "nbformat_minor": 5
}
