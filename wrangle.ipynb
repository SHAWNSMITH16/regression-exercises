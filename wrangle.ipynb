{
 "cells": [
  {
   "cell_type": "code",
   "execution_count": 1,
   "id": "02ddfa18",
   "metadata": {},
   "outputs": [],
   "source": [
    "import pandas as pd\n",
    "from env import get_connection\n",
    "import os"
   ]
  },
  {
   "cell_type": "code",
   "execution_count": 5,
   "id": "677a8d9a",
   "metadata": {},
   "outputs": [],
   "source": [
    "def get_zillow():\n",
    "    \n",
    "    if os.path.isfile('zillow.csv'):\n",
    "        \n",
    "        return pd.read_csv('zillow.csv')\n",
    "    \n",
    "    else:\n",
    "        \n",
    "        url = get_connection('zillow')\n",
    "        \n",
    "        query = '''\n",
    "        SELECT bedroomcnt, bathroomcnt, calculatedfinishedsquarefeet, \n",
    "        taxvaluedollarcnt, yearbuilt, taxamount, fips \n",
    "        FROM properties_2017\n",
    "        JOIN propertylandusetype USING (propertylandusetypeid)\n",
    "        WHERE propertylandusetypeid = 261;\n",
    "        '''\n",
    "        \n",
    "        df = pd.read_sql(query, url)\n",
    "        \n",
    "        df.to_csv('zillow.csv')\n",
    "        \n",
    "        return df"
   ]
  },
  {
   "cell_type": "code",
   "execution_count": 6,
   "id": "56bbb245",
   "metadata": {},
   "outputs": [],
   "source": []
  },
  {
   "cell_type": "code",
   "execution_count": null,
   "id": "f8469128",
   "metadata": {},
   "outputs": [],
   "source": []
  }
 ],
 "metadata": {
  "kernelspec": {
   "display_name": "Python 3 (ipykernel)",
   "language": "python",
   "name": "python3"
  },
  "language_info": {
   "codemirror_mode": {
    "name": "ipython",
    "version": 3
   },
   "file_extension": ".py",
   "mimetype": "text/x-python",
   "name": "python",
   "nbconvert_exporter": "python",
   "pygments_lexer": "ipython3",
   "version": "3.9.13"
  }
 },
 "nbformat": 4,
 "nbformat_minor": 5
}
